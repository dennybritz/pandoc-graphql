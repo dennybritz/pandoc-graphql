{
 "cells": [
  {
   "cell_type": "markdown",
   "metadata": {},
   "source": [
    "# Hello Jupyter!\n",
    "\n",
    "Cupcake ipsum dolor sit amet. Soufflé apple pie pie halvah pastry jelly beans ice cream. Wafer tart topping pudding I love I love bonbon I love. Jelly beans macaroon sugar plum I love caramels tootsie roll. I love I love candy. Pie lemon drops dragée pastry. I love tootsie roll apple pie muffin muffin pudding I love donut.\n",
    "\n",
    "- I love brownie gummi bears chocolate bar. \n",
    "- Carrot cake toffee ice cream wafer sweet sweet sesame snaps sweet. \n",
    "- Apple pie donut I love sweet apple pie dragée soufflé toffee danish. \n",
    "\n",
    "Icing chocolate cake cake [jujubes](https://twitter.com/dennybritz) I love carrot cake tootsie roll. Pie chocolate cake tiramisu chupa chups cheesecake I love **pudding**. Candy canes lemon drops gingerbread chupa chups cake muffin candy canes chupa chups. Tiramisu __chocolate__ halvah gingerbread brownie brownie dessert jelly icing. Bear claw I love danish sesame snaps donut candy canes donut. Gummi bears carrot cake *macaroon* soufflé jelly-o."
   ]
  },
  {
   "cell_type": "markdown",
   "metadata": {},
   "source": [
    "## Croissant fruitcake halvah icing candy canes tart pastry\n",
    "\n",
    "Chupa chups macaroon gummi bears dessert dessert. Cheesecake danish I love I love cookie chupa chups. Bear claw marzipan cake bonbon cake I love cookie jelly-o. Sesame snaps sweet marshmallow I love jelly sesame snaps. Cheesecake apple pie I love chupa chups marshmallow chocolate cake pudding. Pudding marshmallow lemon drops croissant. Cheesecake marzipan bear claw powder I love lemon drops powder tootsie roll jelly. Danish I love muffin jelly dragée toffee jujubes.\n",
    "\n",
    "> Caramels chocolate bar apple pie donut wafer I love. \n",
    "> Wafer muffin icing marshmallow candy marzipan jelly-o.\n",
    "> Cotton candy wafer halvah cupcake. Gingerbread halvah caramels tart.\n",
    "\n",
    "Gummies jelly gummies I love I love biscuit brownie. Dragée pie dessert I love cotton candy cookie chupa chups. "
   ]
  },
  {
   "cell_type": "markdown",
   "metadata": {},
   "source": [
    "### Liquorice liquorice tootsie roll ice cream. Chocolate macaroon powder.\n",
    "\n",
    "Jelly soufflé sweet cotton candy sesame snaps muffin cookie tart macaroon. Tiramisu candy icing danish donut icing pastry. Tart icing cupcake I love bonbon soufflé I love I love fruitcake. Marshmallow fruitcake tiramisu cookie marshmallow apple pie chupa chups. Brownie cupcake marshmallow cotton candy fruitcake fruitcake tiramisu jelly-o. Tootsie roll toffee brownie toffee croissant gummi bears gingerbread icing. Candy lemon drops candy apple pie I love donut cookie. Brownie chupa chups lollipop."
   ]
  },
  {
   "cell_type": "code",
   "execution_count": 3,
   "metadata": {},
   "outputs": [],
   "source": [
    "def train():\n",
    "    model.train() # Turn on the train mode\n",
    "    total_loss = 0.\n",
    "    start_time = time.time()\n",
    "    ntokens = len(TEXT.vocab.stoi)\n",
    "    for batch, i in enumerate(range(0, train_data.size(0) - 1, bptt)):\n",
    "        data, targets = get_batch(train_data, i)\n",
    "        optimizer.zero_grad()\n",
    "        output = model(data)\n",
    "        loss = criterion(output.view(-1, ntokens), targets)\n",
    "        loss.backward()\n",
    "        torch.nn.utils.clip_grad_norm_(model.parameters(), 0.5)\n",
    "        optimizer.step()\n",
    "\n",
    "        total_loss += loss.item()\n",
    "        log_interval = 200\n",
    "        if batch % log_interval == 0 and batch > 0:\n",
    "            cur_loss = total_loss / log_interval\n",
    "            elapsed = time.time() - start_time\n",
    "            print('| epoch {:3d} | {:5d}/{:5d} batches | '\n",
    "                  'lr {:02.2f} | ms/batch {:5.2f} | '\n",
    "                  'loss {:5.2f} | ppl {:8.2f}'.format(\n",
    "                    epoch, batch, len(train_data) // bptt, scheduler.get_lr()[0],\n",
    "                    elapsed * 1000 / log_interval,\n",
    "                    cur_loss, math.exp(cur_loss)))\n",
    "            total_loss = 0\n",
    "            start_time = time.time()"
   ]
  },
  {
   "cell_type": "code",
   "execution_count": 4,
   "metadata": {},
   "outputs": [
    {
     "output_type": "stream",
     "name": "stdout",
     "text": "Hello Jupyter!\n"
    }
   ],
   "source": [
    "print(\"Hello Jupyter!\")"
   ]
  },
  {
   "cell_type": "markdown",
   "metadata": {},
   "source": [
    "Dragée marzipan macaroon jelly beans cotton candy I love chocolate cotton candy marzipan.\n",
    "\n",
    "#### Muffin gingerbread cake jelly beans chocolate cake\n",
    "\n",
    "Bear claw cake chupa chups cookie soufflé jelly-o jujubes topping biscuit. I love powder toffee caramels I love tart. Caramels lemon drops I love cake danish cupcake tiramisu. Fruitcake carrot cake jujubes. Danish I love bonbon. Chupa chups tart donut. Toffee cake sugar plum brownie chupa chups sweet roll soufflé cupcake cake\n",
    "\n",
    "$$\n",
    "e^x = \\sum_{n=0}^\\infty \\frac{x^n}{n!} = \\lim_{n\\rightarrow\\infty} (1+x/n)^n\n",
    "$$\n",
    "\n",
    "Candy cookie cupcake oat cake liquorice lollipop. Sugar plum chocolate cake tootsie roll apple pie cotton candy lemon drops"
   ]
  },
  {
   "cell_type": "markdown",
   "metadata": {},
   "source": [
    "## Ice cream liquorice chocolate bar marzipan \n",
    "\n",
    "Soufflé sweet marzipan powder liquorice candy canes sugar plum toffee. Sesame snaps icing dessert cheesecake sweet roll. Donut sweet roll biscuit carrot cake ice cream muffin. Pastry bear claw jelly beans chocolate gummi bears toffee. Candy muffin ice cream cotton candy wafer. Carrot cake dragée liquorice lemon drops icing liquorice sweet roll. Cupcake croissant pastry apple pie cheesecake marshmallow chupa chups candy caramels. Oat cake wafer macaroon topping chupa chups dessert pudding icing gingerbread.\n",
    "\n",
    "See [@platanios2020jelly] for more details.\n",
    "\n",
    "Brownie donut cake marzipan pudding muffin dessert pastry ice cream. Wafer gummi bears topping jujubes gingerbread marshmallow ice cream. Cake jelly beans danish lemon drops jelly beans. Jelly beans cookie candy canes. Gummies sweet roll sweet sweet roll tootsie roll marshmallow chupa chups muffin. Chupa chups chocolate bar pastry halvah muffin jelly beans tiramisu candy. Bonbon jelly-o cheesecake dragée pastry pudding brownie. Brownie dessert tart.\n",
    "\n",
    "![This is an image](assets/hello-jupyter.png)\n",
    "\n",
    "Croissant gingerbread chocolate caramels croissant cotton candy. Powder dessert dessert cheesecake pastry toffee cheesecake."
   ]
  }
 ],
 "metadata": {
  "language_info": {
   "name": "python",
   "codemirror_mode": {
    "name": "ipython",
    "version": 3
   },
   "version": "3.8.1-final"
  },
  "orig_nbformat": 2,
  "file_extension": ".py",
  "mimetype": "text/x-python",
  "name": "python",
  "npconvert_exporter": "python",
  "pygments_lexer": "ipython3",
  "version": 3,
  "kernelspec": {
   "name": "python38164bit381pyenv655d8891fcbd41798b7d8f7081bfaf9f",
   "display_name": "Python 3.8.1 64-bit ('3.8.1': pyenv)"
  }
 },
 "nbformat": 4,
 "nbformat_minor": 2
}